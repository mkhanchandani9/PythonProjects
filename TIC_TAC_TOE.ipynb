{
 "cells": [
  {
   "cell_type": "code",
   "execution_count": 2,
   "metadata": {},
   "outputs": [],
   "source": [
    "from IPython.display import clear_output\n",
    "\n",
    "def display_board(board):\n",
    "    clear_output()\n",
    "    print(board[1]+ ' | ' + board[2] + ' | '+ board[3])\n",
    "    print('---------')\n",
    "    print(board[4]+ ' | ' + board[5] + ' | '+ board[6])\n",
    "    print('---------')\n",
    "    print(board[7]+ ' | ' + board[8] + ' | '+ board[9])\n",
    "    \n",
    "    pass"
   ]
  },
  {
   "cell_type": "code",
   "execution_count": 3,
   "metadata": {},
   "outputs": [],
   "source": [
    "def player_input():\n",
    "    choice =''\n",
    "    while choice not in ['X','O']:\n",
    "        choice = input('Please enter a marker choice as X or O for player 1 :  ')\n",
    "        if choice not in ['X','O']:\n",
    "            clear_output()\n",
    "            print(\"Sorry, Please try again. \\n\")\n",
    "    player1 = choice\n",
    "    if player1 =='X':\n",
    "        player2 = 'O'\n",
    "    else:\n",
    "        player2 = 'X'\n",
    "        \n",
    "    return (player1,player2)"
   ]
  },
  {
   "cell_type": "code",
   "execution_count": 4,
   "metadata": {},
   "outputs": [],
   "source": [
    "def place_marker(board, marker, position):\n",
    "    board[position] = marker\n",
    "   # return board\n",
    "    "
   ]
  },
  {
   "cell_type": "code",
   "execution_count": 5,
   "metadata": {},
   "outputs": [],
   "source": [
    "def win_check(board, mark):\n",
    "    if ((board[7]==board[8]==board[9]==mark) or (board[4]==board[5]==board[6]==mark) or (board[1]==board[2]==board[3]==mark)\n",
    "or (board[7]==board[4]==board[1]==mark) or (board[8]==board[5]==board[2]==mark) or (board[9]==board[6]==board[3]==mark) or\n",
    "(board[9]==board[5]==board[1]==mark) or (board[7]==board[5]==board[3]==mark)):\n",
    "        \n",
    "        return True\n",
    "    else:\n",
    "        return False"
   ]
  },
  {
   "cell_type": "code",
   "execution_count": 6,
   "metadata": {},
   "outputs": [],
   "source": [
    "import random\n",
    "\n",
    "def choose_first():\n",
    "    x = random.randint(1, 2)\n",
    "    if(x==1):\n",
    "        return 'Player 1'\n",
    "    else:\n",
    "        return 'Player 2'"
   ]
  },
  {
   "cell_type": "code",
   "execution_count": 7,
   "metadata": {},
   "outputs": [],
   "source": [
    "def space_check(board, position):\n",
    "    #if(board[position]!='X' and board[position]!='O'):\n",
    "    if board[position] == ' ':\n",
    "        return True\n",
    "    else:\n",
    "        return False"
   ]
  },
  {
   "cell_type": "code",
   "execution_count": 8,
   "metadata": {},
   "outputs": [],
   "source": [
    "def full_board_check(board):\n",
    "    for i in range(1,10):\n",
    "       # if(board[i]==' '):\n",
    "        #    return False\n",
    "        if space_check(board, i):\n",
    "            return False\n",
    "    return True"
   ]
  },
  {
   "cell_type": "code",
   "execution_count": 9,
   "metadata": {},
   "outputs": [],
   "source": [
    "def player_choice(board):\n",
    "    pos = 0\n",
    "    space = False\n",
    "    while pos not in range(1,10) or space== False:\n",
    "        pos = int(input('enter your next position choice between 1 to 9 \\n'))\n",
    "        if space_check(board, pos):\n",
    "            space = True\n",
    "            return pos\n",
    "        else:\n",
    "            space = False\n",
    "            "
   ]
  },
  {
   "cell_type": "code",
   "execution_count": 10,
   "metadata": {},
   "outputs": [],
   "source": [
    "def replay():\n",
    "    play =' '\n",
    "    while play not in ['yes','no']:\n",
    "        play = input('want to play again ? ').lower()\n",
    "        if play not in ['yes','no']:\n",
    "            clear_output()\n",
    "            print(\"Sorry, please enter yes or no. \\n\")\n",
    "        if play=='yes':\n",
    "            return True\n",
    "        else:\n",
    "            return False"
   ]
  },
  {
   "cell_type": "code",
   "execution_count": 12,
   "metadata": {},
   "outputs": [
    {
     "name": "stdout",
     "output_type": "stream",
     "text": [
      "O | X |  \n",
      "---------\n",
      "O | X |  \n",
      "---------\n",
      "O |   |  \n",
      "You won!\n",
      "want to play again ? NO\n"
     ]
    }
   ],
   "source": [
    "print('Welcome to Tic Tac Toe!')\n",
    "while True:\n",
    "    theBoard = [' '] * 10\n",
    "    \n",
    "    p1marker, p2marker = player_input()\n",
    "    chance = choose_first()\n",
    "    print('{} goes first'.format(chance))\n",
    "    \n",
    "    \n",
    "    option = input('ready to play? ')\n",
    "    if option.lower()=='yes':\n",
    "        play = True\n",
    "    else:\n",
    "        play = False\n",
    "        \n",
    "\n",
    "    while play:\n",
    "        if chance == 'Player 1':\n",
    "            display_board(theBoard)\n",
    "            pos = player_choice(theBoard)\n",
    "            place_marker(theBoard, p1marker, pos)\n",
    "            \n",
    "            if win_check(theBoard, p1marker):\n",
    "                \n",
    "                display_board(theBoard)\n",
    "                print('You won!')\n",
    "                play = False\n",
    "            else:\n",
    "                if full_board_check(theBoard):\n",
    "                    \n",
    "                    #play = False\n",
    "                    display_board(theBoard)\n",
    "                    print('it is a draw')\n",
    "                    break\n",
    "                else:\n",
    "                    chance = 'Player 2'\n",
    "        #if chance == 'Player 2':\n",
    "        else:\n",
    "            display_board(theBoard)\n",
    "            pos = player_choice(theBoard)\n",
    "            place_marker(theBoard, p2marker, pos)\n",
    "            if win_check(theBoard, p2marker):\n",
    "                \n",
    "                display_board(theBoard)\n",
    "                print('You won!')\n",
    "                play = False\n",
    "            else:\n",
    "                \n",
    "                if full_board_check(theBoard):  \n",
    "                    #play = False\n",
    "                    display_board(theBoard)\n",
    "                    print('it is a draw')\n",
    "                    break\n",
    "                else:\n",
    "                    chance = 'Player 1'\n",
    "    if not replay():\n",
    "        break"
   ]
  },
  {
   "cell_type": "code",
   "execution_count": null,
   "metadata": {},
   "outputs": [],
   "source": []
  }
 ],
 "metadata": {
  "kernelspec": {
   "display_name": "Python 3",
   "language": "python",
   "name": "python3"
  },
  "language_info": {
   "codemirror_mode": {
    "name": "ipython",
    "version": 3
   },
   "file_extension": ".py",
   "mimetype": "text/x-python",
   "name": "python",
   "nbconvert_exporter": "python",
   "pygments_lexer": "ipython3",
   "version": "3.7.3"
  }
 },
 "nbformat": 4,
 "nbformat_minor": 2
}
